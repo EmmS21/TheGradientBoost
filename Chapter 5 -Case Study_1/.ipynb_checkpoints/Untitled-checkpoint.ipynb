{
 "cells": [
  {
   "cell_type": "code",
   "execution_count": 1,
   "metadata": {},
   "outputs": [],
   "source": [
    "%matplotlib inline\n",
    "import pandas as pd\n",
    "import numpy as np\n",
    "from matplotlib import pyplot as plt\n",
    "import seaborn as sns\n",
    "plt.rcParams['savefig.dpi'] = 144"
   ]
  },
  {
   "cell_type": "markdown",
   "metadata": {},
   "source": [
    "## Context  \n",
    "\n",
    "Analytics has permeated all industries as a result of an exponential increase in data collection. More service providers have access to more information to better understand what customers want. The same applies to the credit card industry. Within the credit card payment processing field, significant amounts of data is available\n",
    "to understand a multitude of consumer behaviour, including their spending patterns.  \n",
    "\n",
    "This data can also be used to understand transactions and activities from existing customers to identify trends that are emerging in different regions. This information can also be used to better understand our customers and identify channels to better engage with prospective customers.  \n",
    "\n",
    "Additional to this, data acquired from credit processing is becoming an increasingly important tool as a fight against fraud. Combined with Machine Learning, this data can be analyzed quickly to uncover suspicious purchase activit"
   ]
  },
  {
   "cell_type": "markdown",
   "metadata": {},
   "source": [
    "## Business Problem  \n",
    "\n",
    "In order to make better decisions, Ms. Juliet Sithole the CEO of KECredits would like to start taking data analysis more seriously in guiding her decisions. She comes to you with a list of questions with the objective of developing a better understanding of customer spending habits and repayment behaviour \n",
    "\n",
    "\n",
    "__1.__ We would like to understand spending patterns for each customer. Please help us understand what each customer spent during each month in 2004, 2005 and 2006<br> \n",
    "__2.__ What is the average monthly spend by each customer for each month?<br>\n",
    "__3.__ What are the top 3 months in terms of average spend by month?<br>\n",
    "__4.__ Which 10 customers spend the most money in festive season months (November and December) and winter months (May, June and July). We need two dataframes<br>\n",
    "__5.__ Which month do we record more customer spend in, does this differ by year?<br>\n",
    "__6.__ Which month do we record more customers spending money in terms of number of transactions?<br>\n",
    "__7.__ What are most customers spending money on, does this change by month?<br>\n",
    "__8.__ What products are users under the age of 21 spending more money on?<br>\n",
    "__9.__ What products are users between the ages of 25 and 40, spending more money on, does this differ depending on the city they are from?<br>"
   ]
  },
  {
   "cell_type": "markdown",
   "metadata": {},
   "source": [
    "## Data\n",
    "\n",
    "Get the data and clean for analysis"
   ]
  },
  {
   "cell_type": "code",
   "execution_count": 7,
   "metadata": {},
   "outputs": [],
   "source": [
    "customer_file = \"customer_information.csv\"\n",
    "spending_file = \"spend.csv\"\n",
    "\n",
    "customer_df = pd.read_csv(customer_file)\n",
    "spending_df = pd.read_csv(spending_file)"
   ]
  },
  {
   "cell_type": "markdown",
   "metadata": {},
   "source": [
    "__1.__ We would like to understand spending patterns for each customer. Please help us understand what each customer spent during each month in 2004, 2005 and 2006 "
   ]
  },
  {
   "cell_type": "code",
   "execution_count": null,
   "metadata": {},
   "outputs": [],
   "source": []
  },
  {
   "cell_type": "markdown",
   "metadata": {},
   "source": [
    "__2.__ What is the average monthly spend by each customer for each month? "
   ]
  },
  {
   "cell_type": "code",
   "execution_count": null,
   "metadata": {},
   "outputs": [],
   "source": []
  },
  {
   "cell_type": "markdown",
   "metadata": {},
   "source": [
    "__3.__ What are the top 3 months in terms of average spend by month? "
   ]
  },
  {
   "cell_type": "code",
   "execution_count": null,
   "metadata": {},
   "outputs": [],
   "source": []
  },
  {
   "cell_type": "markdown",
   "metadata": {},
   "source": [
    "__4.__ Which 10 customers spend the most money in festive season months (November and December) and winter months (May, June and July). We need two dataframes "
   ]
  },
  {
   "cell_type": "code",
   "execution_count": null,
   "metadata": {},
   "outputs": [],
   "source": []
  },
  {
   "cell_type": "markdown",
   "metadata": {},
   "source": [
    "__5.__ Which month do we record more customer spend in, does this differ by year? "
   ]
  },
  {
   "cell_type": "code",
   "execution_count": null,
   "metadata": {},
   "outputs": [],
   "source": []
  },
  {
   "cell_type": "markdown",
   "metadata": {},
   "source": [
    "__6.__ Which month do we record more customers spending money in terms of number of transactions?"
   ]
  },
  {
   "cell_type": "code",
   "execution_count": null,
   "metadata": {},
   "outputs": [],
   "source": []
  },
  {
   "cell_type": "markdown",
   "metadata": {},
   "source": [
    "__7.__ What are most customers spending money on, does this change by month? "
   ]
  },
  {
   "cell_type": "code",
   "execution_count": null,
   "metadata": {},
   "outputs": [],
   "source": []
  },
  {
   "cell_type": "markdown",
   "metadata": {},
   "source": [
    "__8.__ What products are users under the age of 21 spending more money on? "
   ]
  },
  {
   "cell_type": "code",
   "execution_count": null,
   "metadata": {},
   "outputs": [],
   "source": []
  },
  {
   "cell_type": "markdown",
   "metadata": {},
   "source": [
    "__9.__ What products are users between the ages of 25 and 40, spending more money on, does this differ depending on the city they are from?"
   ]
  },
  {
   "cell_type": "code",
   "execution_count": null,
   "metadata": {},
   "outputs": [],
   "source": []
  }
 ],
 "metadata": {
  "kernelspec": {
   "display_name": "Python 3",
   "language": "python",
   "name": "python3"
  },
  "language_info": {
   "codemirror_mode": {
    "name": "ipython",
    "version": 3
   },
   "file_extension": ".py",
   "mimetype": "text/x-python",
   "name": "python",
   "nbconvert_exporter": "python",
   "pygments_lexer": "ipython3",
   "version": "3.7.3"
  }
 },
 "nbformat": 4,
 "nbformat_minor": 2
}
