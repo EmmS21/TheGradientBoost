{
 "cells": [
  {
   "cell_type": "markdown",
   "metadata": {},
   "source": [
    "# Exercises Questions\n"
   ]
  },
  {
   "cell_type": "markdown",
   "metadata": {},
   "source": [
    "Please answer the questions using this notebook and submit the complete notebook in a GitHub repository dedicated to exercises you will complete through the duration of this course.\n",
    "\n",
    "You can read about more about creating a GitHub repository here: https://help.github.com/en/github/getting-started-with-github/create-a-repo"
   ]
  },
  {
   "cell_type": "markdown",
   "metadata": {},
   "source": [
    "## Question 1"
   ]
  },
  {
   "cell_type": "code",
   "execution_count": 1,
   "metadata": {},
   "outputs": [
    {
     "data": {
      "text/plain": [
       "256561049949215640377952127143729336848291525031973795521522489213572420361845390533047493898116794584148648443188793897925876490888798377313405002640579414586237780710887399096227351960130356396388661483482653827588025288559407977581408947352005269478548900960977015578008202457093058166817989634722684600927127009010683479706024272371188741556453749738632530865456679029212281833129569507680400881376082425233149941705874533588511122610870516502447367979729273933953503448167744054563161012314057117735064942968741064632823331695282785911433409729867457384135261540701837758735363866281203883416675106615136873537567054564517333147221553576759388735383816768556190585086672943707262123910010465868669903095216068773378237778571102152663945318991253241536237674566531267595075824324528222019540779680549959116507954286583419080894955105548286908745605217577615042593600649193034460510223754203300861092122621796748646300853544573578000802210224221283419165028602261606813700312691020726668493861754644396631928938434020988327340085250347813534663135995820875656567297869612727705408251467258199351181404812858204275338970875332898499880005118977092840000749388679128092621951034958943557830192642315644111174705629849643387526640362201557474622991176709940848713750898300029550892459872187260512976378913757463634939834704862424171997646536080830694151882294982342840480341203553351845642662349563589090068937058848768009913430783219349888080253013763207141231462366726079608378509878489709310808555590010439913411708071445302428636139632423319639907843200429890680484459310523592572143056808664896995284931441439649396971964034496494756802857993938904620447660443733064648573648094527636195189094103995148446252970843524419807596260419066303452895645308598460339131889972141976223781277197345883293499905916509660797232044758899804369918296573908305172962094783650296543566522994301010918411850860755776476933438619515060378425523427891198001548444983192318373111136726403847600311021863209847438817381053050033776517709159954109453652351376377790621321313429147816603918032766119838629277724604976577775722024808861028513265644959479232485078514396861979804496364816261700576631396138132697473584080493855136736255506109983959680706286010807422273166026236746698777803577154293557595571505132862602804042269168361620583688510745562148998590466253675570799341315853611552483993557589770352289693792440700987374929342707702815157890276879038121256907660167201038187177573365392557244202902314366592000625369513766898379447330418363468922981608835211008806208668112273225477114404725144557844906334913465478906557453561680067059420325305609846618563570928028653747958858761809807872379640245655491031694624898404765064516427984057875651896985379204318051905607780496866202942913610869912082988043361940700468676325259537059472855642895283084481157322152721241734499997658180058070736116388891793559206553028644353604765757688713639973781441562484833891408209568046433636092209326760453703703167799013437947304024195242556131489717699184926574496059480582692339600057375102341812467717119504792905437693901716780720634601739275891543404964144144240794988149551249385275259299899464472219321517089335868925885742652519561019401617410654891261841083967634955551680984092433226051197827497291516525301081644426641050785158012789526200257711731654172326133270027375996148416344887759026403592918428435314070469287715643153840902159197257141649705455585428262316645664390714073267999709609803448199159710927643031916843035383593752920286896053464341825032223973365237018281507277197758920162427995016186299639870916621564018562954674987171933406165568934619886734798233533493469254529762882114141422985032002628148949480525914413591165199117693513230284144853205417413046923160038285316806880798246880547445781528656693814259287285213921750543425769200468870740756145839273855047761421728197582210563628356147770143772392490927200568831347008699736386284818006392255455298413909358690210805192317630883270302482875161659582236496296985963276046492793752707691869615049536072326940457034119446514737599122537950561038102436293578781747232278348690911408940016218055083019337520947951720377364609964337588889143731092834616214678744651351475455212000601370622958538159044552224306361342885774142052291022587603637053819784621103841531447722855997898594242394384354341699803989504842060978316876609372104742655372761899277600012632311694173292767701201421552888439434713897740320087091200756146216066840007311165208068311813205399992288717985147744244400080910597660134070532407013187544227989935490627293523708057176925335902074184928429504790745637749546316256460414157025319923291054174965741070057796301533408834399047135097076290931184618819396634302178512557985975001144490123070727979697704134257155244086241175295963479708981065128689119877599949991659240402825016071429900135511295698572211862793395078260195596816763606501447656147581932195851956406535112435945892501410363472060768405917356152813668598662870571622558044864148344229221380969197638905498201477111608040425367250971073858385643715406450400836063157141785097488826910501775553673328957944654680762131325555801745120081782466659749241014466504567138340602721029815185988669389327259713726688280549963074060051215902740898341080254313350659755660016019654356680956917639319473683376164591149024108953288946562323507807155284141865893621684356280927261495285452577800339680003899640699690429153207951347558146186116036595946090986262211371398706481488199006425512981328118008835547807269082550950719497655049644362053331580289080885668002205676186009344322666719545678520524886527530548238289973175591883483235398682699695476456947437062833868889149393877476160917474351896990160040987157952838369234082532223130567499234745123456445329356149061068376294314696692423415957029146802411390323176085753671294308725569313682241175558849192954018767596329257492815659861908598797181800955480702453444451120630367961351697244533189012780699877802868340459610213126146428339312633257425951619405058131818291343069719862516079970231940396794570153342181122298878648011600023781542318358457651679546272982983081461542493345403607741267013410731893059069647436308995758522680474640924760559348099976083210919091306796256340307057930261074202366955329246596636896888771165937282457290939736075428022076218884268176561243875710967750864410888552595567766620328148248219249076615711075417624138970226799908272775225154077102276099475947659132345793932070482861508349113907126467936886627891348156473842641552139176371480503948038112373832296209106004399390641093187231820757197747473293961957064216657958675426750103748592393519437230980430566725595867609839062175759685382376392775830691888357210054167271806577853042045805440730441116320825960090006018212365223930946124003584433284025496864128895859912112146421240553118637063680309367520464286389779356196797159764904138542630212572766500222004069952618758426385196091849999322142411219041546887048656395332550008562765994436819809183204212261346666115141042673310996188564874550469341504193797438837997248654080923382945077347147096112668502170601710315355217039579109624301833181614184694688048577291137430114637583022442993382190438738222954014601149101000865505368127360305370513270681681071928272142326463420679681771459459231281650357017033791908440898798863048354929712473927926130030715173331235881222264680308804201559818647986545718131573694731304446641879902902941674682979198118118742586500348919294728453396715951682215200995127866214175651084292375139254454778330081617409004110806404951519170730948896171748700420903768549321718877937293257257463168258730287060783770761904645185577909355916512367208470958525203664310688237337136632006917707954797496839867841562528474687121076394394272584778449596687627247571324871111257969380458781150828239767392625245956544041162754553265966270537030918891485857231879084504184464083778392174895533957210716554361485059493801900250332255492167203876868141189282099085269644197629778071731657759231229244280742261321798932414552528728390058772832315585206324697379396789127203573724409039608519709951392951903204942843332211642896717272478359574938087225800925192310299501983896644259765439326203341877758137396880124731447640128222606471478660134910913620368788049985203953178073863328912075269412212862927384983658057197967414928639736459805189331968849911834055981828884902951687117612462262113193870914511982672704861431183455230488001300992974201626235843356863277883829383163332314161930068952589024371931753029213264568222556946775851065015598639891097562010476273923890077000883579675289674770386237055770843041744033311952588832915519679276858653326455333078674800056433232768046401147004213635906616214654784865092643255579916357238442682386591601894468273396034040274292402225312318921971860071490831032614859051258182594641034759439108917106634462974829765917917926200233373484406859950356238759594991473474694709341180655071833087"
      ]
     },
     "execution_count": 1,
     "metadata": {},
     "output_type": "execute_result"
    }
   ],
   "source": [
    "#only run this once as it will generate a random integer each time it is run\n",
    "import random \n",
    "nums = random.randint(10**5000,10**9000)\n",
    "nums"
   ]
  },
  {
   "cell_type": "markdown",
   "metadata": {},
   "source": [
    "Find the sum of all the numbers in variable 'nums', and then find the sum of the first 5 digits of this number. Notice that nums is an integer, think about how you can iterate through an integer or alternatively if you may need to convert this into a different data type. If you are stuck initially start off by noting the error message you are receiving to guide your solution, if this fails post your questions on Slack and someone will help guide you to the correct answer"
   ]
  },
  {
   "cell_type": "code",
   "execution_count": 34,
   "metadata": {},
   "outputs": [],
   "source": [
    "#Enter your answer here:\n",
    "\n",
    "type()"
   ]
  },
  {
   "cell_type": "code",
   "execution_count": null,
   "metadata": {},
   "outputs": [],
   "source": []
  },
  {
   "cell_type": "markdown",
   "metadata": {},
   "source": [
    "## Question 2"
   ]
  },
  {
   "cell_type": "code",
   "execution_count": 41,
   "metadata": {},
   "outputs": [
    {
     "data": {
      "text/plain": [
       "[1,\n",
       " 8,\n",
       " 0,\n",
       " 5,\n",
       " 10,\n",
       " 9,\n",
       " 3,\n",
       " 8,\n",
       " 1,\n",
       " 0,\n",
       " 1,\n",
       " 1,\n",
       " 2,\n",
       " 10,\n",
       " 6,\n",
       " 0,\n",
       " 2,\n",
       " 3,\n",
       " 9,\n",
       " 7,\n",
       " 0,\n",
       " 3,\n",
       " 3,\n",
       " 9,\n",
       " 10,\n",
       " 3,\n",
       " 1,\n",
       " 2,\n",
       " 2,\n",
       " 10,\n",
       " 7,\n",
       " 7,\n",
       " 6,\n",
       " 4,\n",
       " 7,\n",
       " 8,\n",
       " 4,\n",
       " 7,\n",
       " 9,\n",
       " 4,\n",
       " 10,\n",
       " 10,\n",
       " 8,\n",
       " 7,\n",
       " 7,\n",
       " 5,\n",
       " 7,\n",
       " 10,\n",
       " 7,\n",
       " 9]"
      ]
     },
     "execution_count": 41,
     "metadata": {},
     "output_type": "execute_result"
    }
   ],
   "source": [
    "list_nums = [random.randint(0,10) for iter in range(50)]\n",
    "list_nums"
   ]
  },
  {
   "cell_type": "markdown",
   "metadata": {},
   "source": [
    "Print out a list of numbers in list_nums of numbers that are less than or equals to 4. Write the solution out in one line"
   ]
  },
  {
   "cell_type": "code",
   "execution_count": 50,
   "metadata": {},
   "outputs": [],
   "source": [
    "#Enter your answer here:\n"
   ]
  },
  {
   "cell_type": "code",
   "execution_count": null,
   "metadata": {},
   "outputs": [],
   "source": []
  },
  {
   "cell_type": "markdown",
   "metadata": {},
   "source": [
    "## Question 3"
   ]
  },
  {
   "cell_type": "markdown",
   "metadata": {},
   "source": [
    "Write a program to generate a dictionary that contains (i, i*i) such that if the value 8 is assigned to the variable input_var your dictionary should generate the following output:\n",
    "\n",
    "{1:1, 2:4, 3:9, 4:16, 5:25, 6:36, 7:49, 8:64}"
   ]
  },
  {
   "cell_type": "code",
   "execution_count": 55,
   "metadata": {},
   "outputs": [],
   "source": [
    "input_var = random.randint(5,20)"
   ]
  },
  {
   "cell_type": "code",
   "execution_count": null,
   "metadata": {},
   "outputs": [],
   "source": [
    "#Enter your answer here:"
   ]
  },
  {
   "cell_type": "code",
   "execution_count": null,
   "metadata": {},
   "outputs": [],
   "source": []
  },
  {
   "cell_type": "markdown",
   "metadata": {},
   "source": [
    "## Question 4"
   ]
  },
  {
   "cell_type": "markdown",
   "metadata": {},
   "source": [
    "You are driving along the N1 a little faster than you should be and a police officer stops your vehicle. Write a function that will compute the fine you will be required to pay depending on how fast you were travelling. For each 10kilometres above the limit you will be required to pay R50 on top of a base fine of R1000. \n",
    "\n",
    "Limitations:\n",
    "* the speed limit is 80km/hr\n",
    "* Prior offenses affect the fine you will be required to pay. If you have a single prior driving offence you will be required to pay 25% more for each 10 km/hr over the speed limit, if you have two prior offences you will be required to pay 40% more and if you have 3 or more prior offences you will be required to pay 60% more.\n",
    "\n"
   ]
  },
  {
   "cell_type": "code",
   "execution_count": 61,
   "metadata": {},
   "outputs": [],
   "source": [
    "#Enter your answer here:\n"
   ]
  },
  {
   "cell_type": "code",
   "execution_count": null,
   "metadata": {},
   "outputs": [],
   "source": []
  },
  {
   "cell_type": "markdown",
   "metadata": {},
   "source": [
    "## Question 5"
   ]
  },
  {
   "cell_type": "markdown",
   "metadata": {},
   "source": [
    "Regular expressions or regex/regexp in short is a special text string used to describe a search pattern. You can use regex to find and/or replace a specified pattern in a given expression. Regular expressions make finding information a lot easier.\n",
    "\n",
    "You can use a regexp to search through a text file to find email addresses or to verify if email addresses you have received are valid email addresses\n",
    "\n",
    "For more information on regular expressions please read these sources:\n",
    "* Regular Expressions | A Complete Beginners Tutorial https://blog.usejournal.com/regular-expressions-a-complete-beginners-tutorial-c7327b9fd8eb\n",
    "* RE - Regular Expression Operations: https://docs.python.org/3/library/re.html\n",
    "* Regex Cheat Sheet: A Quick Guide to Regular Expressions in Python\n",
    "https://www.dataquest.io/blog/regex-cheatsheet/\n",
    "\n",
    "For this question, assume you have receive the passwords in variable password_list. For each password verify the validity of the password according to the rules of validation listed below. If the password is valid print or return the password along with a message \"password is valid\", if the password is invalid print or return the password along with the message \"password is not valid\".\n",
    "\n",
    "Rules of validation\n",
    "* The password must have atleast 1 (one) letter in the english alphabet \n",
    "* The password must have atleast 1 capitalized letter in the english alphabet\n",
    "* The password must atleast 1 special character from the list of these characters: (%$@^#)\n",
    "* The password must be atleast 7 characters but not exceed 20 characters in length\n",
    "* The password must not be the word: password or contain the user's firstname"
   ]
  },
  {
   "cell_type": "code",
   "execution_count": null,
   "metadata": {},
   "outputs": [],
   "source": [
    "#you only need to run this once as it will generate a list of 100 randomly generated passwords each time you click run\n",
    "import random \n",
    "import string\n",
    "def randompassword(length):\n",
    "    password = string.ascii_letters + string.digits + string.punctuation\n",
    "    return ''.join(random.choice(password) for i in range(length))\n",
    "password_list = [randompassword(random.randint(0,30)) for iter in range(0,100)]"
   ]
  },
  {
   "cell_type": "code",
   "execution_count": 99,
   "metadata": {},
   "outputs": [],
   "source": [
    "#Enter your answer here:\n"
   ]
  },
  {
   "cell_type": "code",
   "execution_count": null,
   "metadata": {},
   "outputs": [],
   "source": []
  },
  {
   "cell_type": "markdown",
   "metadata": {},
   "source": [
    "## Question 6"
   ]
  },
  {
   "cell_type": "markdown",
   "metadata": {},
   "source": [
    "Write a function that will take in an input of three numerical values and returns the largest and the lowest of these values. Build this funciton without using the Python max() or max() function"
   ]
  },
  {
   "cell_type": "code",
   "execution_count": null,
   "metadata": {},
   "outputs": [],
   "source": [
    "#Enter your answer here:\n"
   ]
  },
  {
   "cell_type": "code",
   "execution_count": null,
   "metadata": {},
   "outputs": [],
   "source": []
  },
  {
   "cell_type": "markdown",
   "metadata": {},
   "source": [
    "## Question 7\n"
   ]
  },
  {
   "cell_type": "markdown",
   "metadata": {},
   "source": [
    "Create a function that takes a dictionary of peoples names and then returns a list of all the names in alphabetic order"
   ]
  },
  {
   "cell_type": "code",
   "execution_count": null,
   "metadata": {},
   "outputs": [],
   "source": [
    "#Enter your answer here:\n"
   ]
  },
  {
   "cell_type": "code",
   "execution_count": null,
   "metadata": {},
   "outputs": [],
   "source": []
  },
  {
   "cell_type": "markdown",
   "metadata": {},
   "source": [
    "## Question 8"
   ]
  },
  {
   "cell_type": "markdown",
   "metadata": {},
   "source": [
    "Write a program which will find all numbers which are divisible by 7 but are not a multiple of 5, between 2000 and 4200 (both included)."
   ]
  },
  {
   "cell_type": "code",
   "execution_count": 4,
   "metadata": {},
   "outputs": [],
   "source": [
    "#Enter your answer here:\n"
   ]
  },
  {
   "cell_type": "code",
   "execution_count": null,
   "metadata": {},
   "outputs": [],
   "source": []
  },
  {
   "cell_type": "markdown",
   "metadata": {},
   "source": [
    "## Question 9"
   ]
  },
  {
   "cell_type": "markdown",
   "metadata": {},
   "source": [
    "Write a program which accepts a sequence of comma-separated numbers and then generates a list which contains every number in the sequence.\n",
    "\n",
    "Suppose the following input is supplied to the program:\n",
    "\n",
    "**sequence = '34,67,55,33,12,98'**\n",
    "\n",
    "Then, the output should be:\n",
    "\n",
    "**[34,67,55,33,12,98]**"
   ]
  },
  {
   "cell_type": "code",
   "execution_count": 22,
   "metadata": {},
   "outputs": [],
   "source": [
    "sequence = ';99,100,2,3,4,6,7,12,35,65,76,8,989,0,9,2,12,1,67,55,33,12,98;'"
   ]
  },
  {
   "cell_type": "code",
   "execution_count": null,
   "metadata": {},
   "outputs": [],
   "source": [
    "#Enter your answer here:\n"
   ]
  },
  {
   "cell_type": "code",
   "execution_count": null,
   "metadata": {},
   "outputs": [],
   "source": []
  },
  {
   "cell_type": "markdown",
   "metadata": {},
   "source": [
    "## Question 10"
   ]
  },
  {
   "cell_type": "markdown",
   "metadata": {},
   "source": [
    "Write a program that translates the following words into any words of a language of your choosing and prints out a message notifying the end user of the language the words have been translated to"
   ]
  },
  {
   "cell_type": "code",
   "execution_count": null,
   "metadata": {},
   "outputs": [],
   "source": [
    "#Enter your answer here:\n",
    "words = ['hello','this','that','there','where','who','how','start','stop','line','think','dream']"
   ]
  }
 ],
 "metadata": {
  "kernelspec": {
   "display_name": "Python 3",
   "language": "python",
   "name": "python3"
  },
  "language_info": {
   "codemirror_mode": {
    "name": "ipython",
    "version": 3
   },
   "file_extension": ".py",
   "mimetype": "text/x-python",
   "name": "python",
   "nbconvert_exporter": "python",
   "pygments_lexer": "ipython3",
   "version": "3.7.3"
  }
 },
 "nbformat": 4,
 "nbformat_minor": 2
}
