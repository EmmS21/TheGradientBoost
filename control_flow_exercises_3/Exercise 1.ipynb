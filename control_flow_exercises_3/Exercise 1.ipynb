{
 "cells": [
  {
   "cell_type": "markdown",
   "metadata": {},
   "source": [
    "# Exercises Questions\n"
   ]
  },
  {
   "cell_type": "markdown",
   "metadata": {},
   "source": [
    "Please answer the questions using this notebook and submit the complete notebook in a GitHub repository dedicated to exercises you will complete through the duration of this course.\n",
    "\n",
    "You can read about more about creating a GitHub repository here: https://help.github.com/en/github/getting-started-with-github/create-a-repo"
   ]
  },
  {
   "cell_type": "markdown",
   "metadata": {},
   "source": [
    "## Question 1"
   ]
  },
  {
   "cell_type": "code",
   "execution_count": 1,
   "metadata": {},
   "outputs": [
    {
     "data": {
      "text/plain": [
       "267021660830869035022494937016687549238368927587146483248887297678909639030760991915771910168305304078938205254558257055832081430201193552828751462610002347706487784884576645278424385713320579190454722139014603633124651483727213056147912369264605211470479016880887828885277344652639562824504810287965886811971724745502823147632774384198934649763071107672914558890625732071084372923293031456879499255649567322155018403269583455918581875808580431718958016744844138470358666971850430461366587733944445291225900829071545741086883415367827903457371333762313428950935999886695442885426159078104071764781088622959638078748309162265372095814040408639813653327885722961625147057520102692483163734815569535940962683220049789456743459878708256702178789937492316034800617605194275928690198247051852264564955150372084082798653736159694126102430670163147350404637479793559175627739518645832735866603070699847027818692230329354762900387831088388391844648892830231166667949373097537424087714308791391733230164388482320622727860006756792526060081765400294897938816551661583898969147851790038276656110987367315005696818314765558235929740000034472524341747337144908088048625669451530231522266134276717780860822376205930729941487395916556531114710915345693111621554618516309970041369104465298474274911495360865843273993409438770005859390820080230578435467078017437862199589370679217961285699882093177229579855732945248142064756111981429740261241378644354157916047981195360364153174053586915880213792821732824253422034875288884289643202237527021940978338727498751641634684069171864426243588400031238041855004327065898348474710755767619757697663410762981759549725827393253506568906304685179541092863959025789018171783712539877509767490575618715734747760544760080209030797615404711525927150796158751294046647735252364865100112534515849530970399513390798741205125564616527446658490755799348953084168124076170835231676179128596459487199580045686334103252581003963351740109096549497279756092893001477354728412249027641081012589881268251952221440689907466146800015485295397434598885035445009602530355022723247296868381377432522721118894220175941976434673166855724754971207928990978332021388589339823851629765236544525233860660748217292808340359619391888859995699032176451515173320837009435910736981201706803398161570642267066049777417506722666272583190470738343301657985657054575417029627553237006739972383572426555070082928854178650152802648087461803029409446256108884135870928953913363922837603746442423439892438809433056771665433648481076399716489884775093927456464418034852470573207575292996197246205205626798970989768930985539417228999136685642826617069965582237594996249826163710314367879079697397339503503429148397796799047122800109222678796297972757452423142699796791457306630294349690883161704362445735992452493287174021780542991617534028732768080747183163741550604984267420273871132088097355625486759531316206719865682384891310612947874331062968019654257432299629805126238264303027503577754626946871740564734685839647134333266405442324666742360414215501037846140567093780609186209933034572900788157867897253175457057469787246841897424405484327806879029662364858660417438504255232041932933686306849670784572459368648447755142139774834173066293775456896707003322369022039305791197500980355919426775087717955143867022868341679686325808953607781346208538848075283390755224173837410247339853609858148412148507483517133777145292922783840447535955825455023383390891076269848127574773458938123405862244466460970338971106145617524840148710377899612058435661682498863219208016239262312133487748067617420547573734654116338937806974031806935075508909020008539804958061988711849349982200910346621729481645314643535478295157596115412418661452517694762410156155097446258660854358925301342723789654315961589678633976454819363684758250092360717186931390204554202937937301543049940730031662303427540045968122797813680146810517884809314595696677619646346642982565879229398187578817434862389075476275776306152684862368934499118814711980500369247121788520093535388231569298747930730877932280176816637334029091716970210754263701976411522443569984815527574847198022592034381928940485889865430182697972498933508441048923281603697774390233473888757041687843111474109552243769104929093267173219751792384165828717070893788952925034071502092725546637439327885300790420451067835237017147411231973548563729734221933052126265183461184897131928059592421771907038301932649980721074769997590743787243021527334242173792486094853452147234013885210785701663206892524396872417614942778872005412458692393233549227674209262020655362005297090315873664556321039456472004223739384541346048130926616995798041156801120366002353518086345073635140567456798385835576956152574076127133655108165008710290017223916454943615019733840337532468292741428306763550483380451633457824979518807110116249313289358107098805500702430841684127033181607394095894305255569484615921464335513606619381851466569259026038105538371320507469591039994054410693558144230433343504950543963438673421592899730103530619881299501733989959084146572351222089267686151293792613715006271445593413277409161680828413284414022139523406160527264818745778324130555357499035885197600283748253026795771600724741647989348660386731410472555525907562551530329191765424695434267177588695451597201785136892451300215535865746504026152915561474088813987418277127835140847634298306539527748465406611651409613847879568103395562051967857371208380208278367952553941230353181089137723595310875342061587667827658702263507602070327145228232343880266069635129710427949519378425755320422697641407333711777313282483341032800052204896688475254200272653358220726059570257477541420570616538740247018521238116242226910406259281323621943474084093600404629094724725286736632245950032067691254975861292168804910479225505328995037232795833804109361709448226285979309769775412796194163526758036111066766520789170114794408554160232319975774729366910091389167729788990828866141008717081372365389076040895590446805319332948693711286364850179711651422941902349040674953972811833404134913016629079931949303994011852274949569259588920337043039965789834740041266207485975504422368511031654693040685596785980369167436310042973589443124132210198880114543722776839716743149385081717982854005297062870904564734931065442140102501266242896046044018388240297819387052544196012441679712610109922662659112894726859221919030079363679079896556182500829710159144354915506022004313650638791387421932291206887651701752096620776025477627631624719763533789288260110267215379613952483094399462361601858261510557922654929556419585109838652871937946338716951388768005118616766979842391113168429406001010085688821190876608869927311275515044779477799978013994722053284225266002137811483965319191916663565723776122724553818198585571819788785227446799453450934454449447664205758148646448510883912496052605663065392771588312864493406859820424722639371450219265991941187661896720204443625762813619617691606531492161088599338278376533876947054315371339759099501899436622986397065908704399333487004463167987687711140598624675402810774831079703184636261312658450636238984692990920657129161186661390565037591439410438321920796009066952021731506134686466360553374714573575205996853919884739378390573145661842529743517898009100554163471461300963588011120810564439325767474268253607530051095745417536409208842038274768525507654471925147486321990873811332532199850300609640957115482368384629818350978839970247264840217844071209797758524260669291060749968858162989088198840783233887266663422204857504918302643425756471880929096149597988164179824741177728136982133143211905906401264764907166808284894271259011608886574954231431015853052417487877516611700903349453233721173188439461862705319527083705044673658458109349466804620617373635258796607503886871004289119817459390726901464021428980250705622904157582094908363317619258622306212566539423060883864004184441951399429352947486873366951604341127297455387879223112570780707453714941806302988887288848604831547181662881603534131877564693688268358912508063769227315208736880929660154023316828149149419463174457793884393414200689474901556727065367412371968032449762758478974029172364448462766452119919845452592368993584664299285885865277517378644676472027608829677673536974125937426255634803635817501632958047513284983347392736968631149779463352723498953141187366125200005059936097258925745931784717251392486655389477490185603537768322731495962124479475313639111857162619932117573285962438638479018152870767900192600590460859099243119615343673544361033879499054612085731218402407758693147757815329862902756890699883148408706352556913961042850575627059287046703027486107796886465130932193709311949977100283051875341246665004968734063165299383969552987825160078428097458873286230075416313312478966528395827102985092803450810469207267594172929020448157041989999214256308595653330441995294333562343112799323339413700309152474324962859842375759760457675283217139225574046786412132442505799221740681265204873864230812271812921964690"
      ]
     },
     "execution_count": 1,
     "metadata": {},
     "output_type": "execute_result"
    }
   ],
   "source": [
    "#only run this once as it will generate a random integer each time it is run\n",
    "import random \n",
    "nums = random.randint(10**5000,10**9000)\n",
    "nums"
   ]
  },
  {
   "cell_type": "markdown",
   "metadata": {},
   "source": [
    "Find the sum of all the numbers in variable 'nums', and then find the sum of the first 5 digits of this number. Notice that nums is an integer, think about how you can iterate through an integer or alternatively if you may need to convert this into a different data type. If you are stuck initially start off by noting the error message you are receiving to guide your solution, if this fails post your questions on Slack and someone will help guide you to the correct answer"
   ]
  },
  {
   "cell_type": "code",
   "execution_count": 2,
   "metadata": {},
   "outputs": [],
   "source": [
    "#Enter your answer here:\n",
    "\n",
    "# convert nums to string and iterate over it to get number in numbers and store in a variable arr\n",
    "str_nums = str(nums)\n",
    "arr = [int(i) for i in str_nums]"
   ]
  },
  {
   "cell_type": "code",
   "execution_count": 3,
   "metadata": {},
   "outputs": [
    {
     "name": "stdout",
     "output_type": "stream",
     "text": [
      "The sum of the numders is 40774 and the sum of the first five numbers is 17\n"
     ]
    }
   ],
   "source": [
    "sum_nums = sum(arr)\n",
    "first_five = sum(arr[:5])\n",
    "\n",
    "print(\"The sum of the numders is {} and the sum of the first five numbers is {}\".format(sum_nums, first_five))"
   ]
  },
  {
   "cell_type": "markdown",
   "metadata": {},
   "source": [
    "## Question 2"
   ]
  },
  {
   "cell_type": "code",
   "execution_count": 4,
   "metadata": {},
   "outputs": [
    {
     "data": {
      "text/plain": [
       "[4,\n",
       " 10,\n",
       " 2,\n",
       " 3,\n",
       " 10,\n",
       " 10,\n",
       " 0,\n",
       " 0,\n",
       " 4,\n",
       " 3,\n",
       " 7,\n",
       " 9,\n",
       " 9,\n",
       " 10,\n",
       " 3,\n",
       " 8,\n",
       " 9,\n",
       " 9,\n",
       " 0,\n",
       " 2,\n",
       " 2,\n",
       " 7,\n",
       " 5,\n",
       " 5,\n",
       " 2,\n",
       " 3,\n",
       " 3,\n",
       " 1,\n",
       " 2,\n",
       " 8,\n",
       " 5,\n",
       " 6,\n",
       " 4,\n",
       " 7,\n",
       " 7,\n",
       " 4,\n",
       " 8,\n",
       " 8,\n",
       " 3,\n",
       " 4,\n",
       " 7,\n",
       " 1,\n",
       " 10,\n",
       " 7,\n",
       " 2,\n",
       " 7,\n",
       " 10,\n",
       " 8,\n",
       " 2,\n",
       " 2]"
      ]
     },
     "execution_count": 4,
     "metadata": {},
     "output_type": "execute_result"
    }
   ],
   "source": [
    "list_nums = [random.randint(0,10) for iter in range(50)]\n",
    "list_nums"
   ]
  },
  {
   "cell_type": "markdown",
   "metadata": {},
   "source": [
    "Print out a list of numbers in list_nums of numbers that are less than or equals to 4. Write the solution out in one line"
   ]
  },
  {
   "cell_type": "code",
   "execution_count": 5,
   "metadata": {},
   "outputs": [
    {
     "name": "stdout",
     "output_type": "stream",
     "text": [
      "[4, 2, 3, 0, 0, 4, 3, 3, 0, 2, 2, 2, 3, 3, 1, 2, 4, 4, 3, 4, 1, 2, 2, 2]\n"
     ]
    }
   ],
   "source": [
    "#Enter your answer here:\n",
    "\n",
    "print([i for i in list_nums if i<4 or i==4])"
   ]
  },
  {
   "cell_type": "code",
   "execution_count": null,
   "metadata": {},
   "outputs": [],
   "source": []
  },
  {
   "cell_type": "markdown",
   "metadata": {},
   "source": [
    "## Question 3"
   ]
  },
  {
   "cell_type": "markdown",
   "metadata": {},
   "source": [
    "Write a program to generate a dictionary that contains (i, i*i) such that if the value 8 is assigned to the variable input_var your dictionary should generate the following output:\n",
    "\n",
    "{1:1, 2:4, 3:9, 4:16, 5:25, 6:36, 7:49, 8:64}"
   ]
  },
  {
   "cell_type": "code",
   "execution_count": 6,
   "metadata": {},
   "outputs": [],
   "source": [
    "input_var = random.randint(5,20)"
   ]
  },
  {
   "cell_type": "code",
   "execution_count": 7,
   "metadata": {},
   "outputs": [
    {
     "data": {
      "text/plain": [
       "{1: 1,\n",
       " 2: 4,\n",
       " 3: 9,\n",
       " 4: 16,\n",
       " 5: 25,\n",
       " 6: 36,\n",
       " 7: 49,\n",
       " 8: 64,\n",
       " 9: 81,\n",
       " 10: 100,\n",
       " 11: 121,\n",
       " 12: 144,\n",
       " 13: 169,\n",
       " 14: 196,\n",
       " 15: 225,\n",
       " 16: 256,\n",
       " 17: 289,\n",
       " 18: 324,\n",
       " 19: 361}"
      ]
     },
     "execution_count": 7,
     "metadata": {},
     "output_type": "execute_result"
    }
   ],
   "source": [
    "#Enter your answer here:\n",
    "\n",
    "my_dict = {}\n",
    "\n",
    "for i in range(1, input_var+1):\n",
    "    my_dict[i] = i*i\n",
    "    \n",
    "my_dict"
   ]
  },
  {
   "cell_type": "code",
   "execution_count": null,
   "metadata": {},
   "outputs": [],
   "source": []
  },
  {
   "cell_type": "markdown",
   "metadata": {},
   "source": [
    "## Question 4"
   ]
  },
  {
   "cell_type": "markdown",
   "metadata": {},
   "source": [
    "You are driving along the N1 a little faster than you should be and a police officer stops your vehicle. Write a function that will compute the fine you will be required to pay depending on how fast you were travelling. For each 10kilometres above the limit you will be required to pay R50 on top of a base fine of R1000. \n",
    "\n",
    "Limitations:\n",
    "* the speed limit is 80km/hr\n",
    "* Prior offenses affect the fine you will be required to pay. If you have a single prior driving offence you will be required to pay 25% more for each 10 km/hr over the speed limit, if you have two prior offences you will be required to pay 40% more and if you have 3 or more prior offences you will be required to pay 60% more.\n",
    "\n"
   ]
  },
  {
   "cell_type": "code",
   "execution_count": 8,
   "metadata": {},
   "outputs": [],
   "source": [
    "#Enter your answer here:\n",
    "\n",
    "\n",
    "def compute_fine(speed, speed_limit=80, fine=1000, prior_offence=0):\n",
    "    if speed >  speed_limit:  # Check if the speed is above the speed limit\n",
    "        extra_speed = speed - speed_limit    # Compute the difference between the speed and the speed limit\n",
    "    extra_fine = (extra_speed//10) * 50    # Compute the extra fine for each 10km/h above speed limit\n",
    "    \n",
    "    if prior_offence == 0:   # Pass if prior offence is zero\n",
    "        pass\n",
    "    elif prior_offence == 1:   # Add en extra 25% when the user has one prior offence\n",
    "        extra_fine = ((25/100) * extra_fine) + extra_fine\n",
    "    elif prior_offence == 2:   # Add en extra 40% when the user has two prior offence\n",
    "        extra_fine = ((40/100) * extra_fine) + extra_fine\n",
    "    elif prior_offence == 3 or prior_offence > 3:   # Add en extra 60% when the user has three or more prior offence\n",
    "        extra_fine = ((60/100) * extra_fine) + extra_fine\n",
    "    \n",
    "    fine = fine + extra_fine  # Add computed extra fines to the base fine\n",
    "    \n",
    "    return fine\n",
    "        "
   ]
  },
  {
   "cell_type": "code",
   "execution_count": 9,
   "metadata": {},
   "outputs": [
    {
     "name": "stdout",
     "output_type": "stream",
     "text": [
      "1125.0\n"
     ]
    }
   ],
   "source": [
    "f = compute_fine(100, prior_offence=1)\n",
    "print(f)"
   ]
  },
  {
   "cell_type": "markdown",
   "metadata": {},
   "source": [
    "## Question 5"
   ]
  },
  {
   "cell_type": "markdown",
   "metadata": {},
   "source": [
    "Regular expressions or regex/regexp in short is a special text string used to describe a search pattern. You can use regex to find and/or replace a specified pattern in a given expression. Regular expressions make finding information a lot easier.\n",
    "\n",
    "You can use a regexp to search through a text file to find email addresses or to verify if email addresses you have received are valid email addresses\n",
    "\n",
    "For more information on regular expressions please read these sources:\n",
    "* Regular Expressions | A Complete Beginners Tutorial https://blog.usejournal.com/regular-expressions-a-complete-beginners-tutorial-c7327b9fd8eb\n",
    "* RE - Regular Expression Operations: https://docs.python.org/3/library/re.html\n",
    "* Regex Cheat Sheet: A Quick Guide to Regular Expressions in Python\n",
    "https://www.dataquest.io/blog/regex-cheatsheet/\n",
    "\n",
    "For this question, assume you have receive the passwords in variable password_list. For each password verify the validity of the password according to the rules of validation listed below. If the password is valid print or return the password along with a message \"password is valid\", if the password is invalid print or return the password along with the message \"password is not valid\".\n",
    "\n",
    "Rules of validation\n",
    "* The password must have atleast 1 (one) letter in the english alphabet \n",
    "* The password must have atleast 1 capitalized letter in the english alphabet\n",
    "* The password must atleast 1 special character from the list of these characters: (%$@^#)\n",
    "* The password must be atleast 7 characters but not exceed 20 characters in length\n",
    "* The password must not be the word: password or contain the user's firstname"
   ]
  },
  {
   "cell_type": "code",
   "execution_count": 10,
   "metadata": {},
   "outputs": [],
   "source": [
    "#you only need to run this once as it will generate a list of 100 randomly generated passwords each time you click run\n",
    "import random \n",
    "import string\n",
    "def randompassword(length):\n",
    "    password = string.ascii_letters + string.digits + string.punctuation\n",
    "    return ''.join(random.choice(password) for i in range(length))\n",
    "password_list = [randompassword(random.randint(0,30)) for iter in range(0,100)]"
   ]
  },
  {
   "cell_type": "code",
   "execution_count": 11,
   "metadata": {},
   "outputs": [],
   "source": [
    "# password_list"
   ]
  },
  {
   "cell_type": "code",
   "execution_count": 14,
   "metadata": {},
   "outputs": [],
   "source": [
    "#Enter your answer here:\n",
    "\n",
    "import re\n",
    "\n",
    "\n",
    "def validate_password(password):\n",
    "    regex = '^(?=.*[a-z])(?=.*[A-Z])(?=.*\\d)(?=.*[%$@^#])(?=.*[a-zA-Z0-9])[A-Za-z\\d%$@^#]{7,20}$'\n",
    "    \n",
    "    comp = re.compile(regex)\n",
    "    \n",
    "    search = re.search(comp, password)\n",
    "    \n",
    "    if search:\n",
    "        print('{} ==> is valid'.format(password))\n",
    "    else:\n",
    "        print('{} ==> is not valid'.format(password))"
   ]
  },
  {
   "cell_type": "code",
   "execution_count": 15,
   "metadata": {},
   "outputs": [
    {
     "name": "stdout",
     "output_type": "stream",
     "text": [
      "Z0gaO#Q ==> is valid\n"
     ]
    }
   ],
   "source": [
    "for password in password_list:\n",
    "    validate_password(password)"
   ]
  },
  {
   "cell_type": "markdown",
   "metadata": {},
   "source": [
    "## Question 6"
   ]
  },
  {
   "cell_type": "markdown",
   "metadata": {},
   "source": [
    "Write a function that will take in an input of three numerical values and returns the largest and the lowest of these values. Build this funciton without using the Python max() or max() function"
   ]
  },
  {
   "cell_type": "code",
   "execution_count": 32,
   "metadata": {},
   "outputs": [],
   "source": [
    "#Enter your answer here:\n",
    "\n",
    "def min_max(x, y, z):\n",
    "    nums = [x, y, z]\n",
    "    \n",
    "    smallest = nums[0]\n",
    "    largest = nums[0]\n",
    "    \n",
    "    for num in nums:\n",
    "        if num < smallest:\n",
    "            smallest = num\n",
    "        if num > largest:\n",
    "            largest = num\n",
    "    return [smallest, largest]"
   ]
  },
  {
   "cell_type": "code",
   "execution_count": 35,
   "metadata": {},
   "outputs": [
    {
     "data": {
      "text/plain": [
       "[1451, 4515454]"
      ]
     },
     "execution_count": 35,
     "metadata": {},
     "output_type": "execute_result"
    }
   ],
   "source": [
    "min_max(4214,1451,4515454)"
   ]
  },
  {
   "cell_type": "markdown",
   "metadata": {},
   "source": [
    "## Question 7\n"
   ]
  },
  {
   "cell_type": "markdown",
   "metadata": {},
   "source": [
    "Create a function that takes a dictionary of peoples names and then returns a list of all the names in alphabetic order"
   ]
  },
  {
   "cell_type": "code",
   "execution_count": 44,
   "metadata": {},
   "outputs": [],
   "source": [
    "#Enter your answer here:\n",
    "\n",
    "def get_names(dict):\n",
    "    names = list(dict.values())\n",
    "    names.sort()\n",
    "    return names"
   ]
  },
  {
   "cell_type": "code",
   "execution_count": 45,
   "metadata": {},
   "outputs": [
    {
     "data": {
      "text/plain": [
       "['Jack', 'Jane', 'John']"
      ]
     },
     "execution_count": 45,
     "metadata": {},
     "output_type": "execute_result"
    }
   ],
   "source": [
    "a = {'one': 'Jane',\n",
    "     'two': 'John',\n",
    "     'three': 'Jack'}\n",
    "\n",
    "get_names(a)"
   ]
  },
  {
   "cell_type": "markdown",
   "metadata": {},
   "source": [
    "## Question 8"
   ]
  },
  {
   "cell_type": "markdown",
   "metadata": {},
   "source": [
    "Write a program which will find all numbers which are divisible by 7 but are not a multiple of 5, between 2000 and 4200 (both included)."
   ]
  },
  {
   "cell_type": "code",
   "execution_count": 47,
   "metadata": {},
   "outputs": [],
   "source": [
    "#Enter your answer here:\n",
    "\n",
    "def find_nums(start, end):\n",
    "    \n",
    "    return [i for i in range(start, end+1) if i%7 == 0 and i%5 != 0]"
   ]
  },
  {
   "cell_type": "code",
   "execution_count": 49,
   "metadata": {},
   "outputs": [
    {
     "data": {
      "text/plain": [
       "[2002,\n",
       " 2009,\n",
       " 2016,\n",
       " 2023,\n",
       " 2037,\n",
       " 2044,\n",
       " 2051,\n",
       " 2058,\n",
       " 2072,\n",
       " 2079,\n",
       " 2086,\n",
       " 2093,\n",
       " 2107,\n",
       " 2114,\n",
       " 2121,\n",
       " 2128,\n",
       " 2142,\n",
       " 2149,\n",
       " 2156,\n",
       " 2163,\n",
       " 2177,\n",
       " 2184,\n",
       " 2191,\n",
       " 2198,\n",
       " 2212,\n",
       " 2219,\n",
       " 2226,\n",
       " 2233,\n",
       " 2247,\n",
       " 2254,\n",
       " 2261,\n",
       " 2268,\n",
       " 2282,\n",
       " 2289,\n",
       " 2296,\n",
       " 2303,\n",
       " 2317,\n",
       " 2324,\n",
       " 2331,\n",
       " 2338,\n",
       " 2352,\n",
       " 2359,\n",
       " 2366,\n",
       " 2373,\n",
       " 2387,\n",
       " 2394,\n",
       " 2401,\n",
       " 2408,\n",
       " 2422,\n",
       " 2429,\n",
       " 2436,\n",
       " 2443,\n",
       " 2457,\n",
       " 2464,\n",
       " 2471,\n",
       " 2478,\n",
       " 2492,\n",
       " 2499,\n",
       " 2506,\n",
       " 2513,\n",
       " 2527,\n",
       " 2534,\n",
       " 2541,\n",
       " 2548,\n",
       " 2562,\n",
       " 2569,\n",
       " 2576,\n",
       " 2583,\n",
       " 2597,\n",
       " 2604,\n",
       " 2611,\n",
       " 2618,\n",
       " 2632,\n",
       " 2639,\n",
       " 2646,\n",
       " 2653,\n",
       " 2667,\n",
       " 2674,\n",
       " 2681,\n",
       " 2688,\n",
       " 2702,\n",
       " 2709,\n",
       " 2716,\n",
       " 2723,\n",
       " 2737,\n",
       " 2744,\n",
       " 2751,\n",
       " 2758,\n",
       " 2772,\n",
       " 2779,\n",
       " 2786,\n",
       " 2793,\n",
       " 2807,\n",
       " 2814,\n",
       " 2821,\n",
       " 2828,\n",
       " 2842,\n",
       " 2849,\n",
       " 2856,\n",
       " 2863,\n",
       " 2877,\n",
       " 2884,\n",
       " 2891,\n",
       " 2898,\n",
       " 2912,\n",
       " 2919,\n",
       " 2926,\n",
       " 2933,\n",
       " 2947,\n",
       " 2954,\n",
       " 2961,\n",
       " 2968,\n",
       " 2982,\n",
       " 2989,\n",
       " 2996,\n",
       " 3003,\n",
       " 3017,\n",
       " 3024,\n",
       " 3031,\n",
       " 3038,\n",
       " 3052,\n",
       " 3059,\n",
       " 3066,\n",
       " 3073,\n",
       " 3087,\n",
       " 3094,\n",
       " 3101,\n",
       " 3108,\n",
       " 3122,\n",
       " 3129,\n",
       " 3136,\n",
       " 3143,\n",
       " 3157,\n",
       " 3164,\n",
       " 3171,\n",
       " 3178,\n",
       " 3192,\n",
       " 3199,\n",
       " 3206,\n",
       " 3213,\n",
       " 3227,\n",
       " 3234,\n",
       " 3241,\n",
       " 3248,\n",
       " 3262,\n",
       " 3269,\n",
       " 3276,\n",
       " 3283,\n",
       " 3297,\n",
       " 3304,\n",
       " 3311,\n",
       " 3318,\n",
       " 3332,\n",
       " 3339,\n",
       " 3346,\n",
       " 3353,\n",
       " 3367,\n",
       " 3374,\n",
       " 3381,\n",
       " 3388,\n",
       " 3402,\n",
       " 3409,\n",
       " 3416,\n",
       " 3423,\n",
       " 3437,\n",
       " 3444,\n",
       " 3451,\n",
       " 3458,\n",
       " 3472,\n",
       " 3479,\n",
       " 3486,\n",
       " 3493,\n",
       " 3507,\n",
       " 3514,\n",
       " 3521,\n",
       " 3528,\n",
       " 3542,\n",
       " 3549,\n",
       " 3556,\n",
       " 3563,\n",
       " 3577,\n",
       " 3584,\n",
       " 3591,\n",
       " 3598,\n",
       " 3612,\n",
       " 3619,\n",
       " 3626,\n",
       " 3633,\n",
       " 3647,\n",
       " 3654,\n",
       " 3661,\n",
       " 3668,\n",
       " 3682,\n",
       " 3689,\n",
       " 3696,\n",
       " 3703,\n",
       " 3717,\n",
       " 3724,\n",
       " 3731,\n",
       " 3738,\n",
       " 3752,\n",
       " 3759,\n",
       " 3766,\n",
       " 3773,\n",
       " 3787,\n",
       " 3794,\n",
       " 3801,\n",
       " 3808,\n",
       " 3822,\n",
       " 3829,\n",
       " 3836,\n",
       " 3843,\n",
       " 3857,\n",
       " 3864,\n",
       " 3871,\n",
       " 3878,\n",
       " 3892,\n",
       " 3899,\n",
       " 3906,\n",
       " 3913,\n",
       " 3927,\n",
       " 3934,\n",
       " 3941,\n",
       " 3948,\n",
       " 3962,\n",
       " 3969,\n",
       " 3976,\n",
       " 3983,\n",
       " 3997,\n",
       " 4004,\n",
       " 4011,\n",
       " 4018,\n",
       " 4032,\n",
       " 4039,\n",
       " 4046,\n",
       " 4053,\n",
       " 4067,\n",
       " 4074,\n",
       " 4081,\n",
       " 4088,\n",
       " 4102,\n",
       " 4109,\n",
       " 4116,\n",
       " 4123,\n",
       " 4137,\n",
       " 4144,\n",
       " 4151,\n",
       " 4158,\n",
       " 4172,\n",
       " 4179,\n",
       " 4186,\n",
       " 4193]"
      ]
     },
     "execution_count": 49,
     "metadata": {},
     "output_type": "execute_result"
    }
   ],
   "source": [
    "find_nums(2000, 4200)"
   ]
  },
  {
   "cell_type": "markdown",
   "metadata": {},
   "source": [
    "## Question 9"
   ]
  },
  {
   "cell_type": "markdown",
   "metadata": {},
   "source": [
    "Write a program which accepts a sequence of comma-separated numbers and then generates a list which contains every number in the sequence.\n",
    "\n",
    "Suppose the following input is supplied to the program:\n",
    "\n",
    "**sequence = '34,67,55,33,12,98'**\n",
    "\n",
    "Then, the output should be:\n",
    "\n",
    "**[34,67,55,33,12,98]**"
   ]
  },
  {
   "cell_type": "code",
   "execution_count": 50,
   "metadata": {},
   "outputs": [],
   "source": [
    "sequence = ';99,100,2,3,4,6,7,12,35,65,76,8,989,0,9,2,12,1,67,55,33,12,98;'"
   ]
  },
  {
   "cell_type": "code",
   "execution_count": 66,
   "metadata": {},
   "outputs": [],
   "source": [
    "#Enter your answer here:\n",
    "import re\n",
    "\n",
    "def generate_num_list(sequence):\n",
    "    nums = []\n",
    "    seq = [re.findall(r'[0-9]+', i) for i in sequence.split(sep=',')]\n",
    "    for i in seq:\n",
    "        for j in i:\n",
    "            nums.append(int(j))\n",
    "    \n",
    "    return nums"
   ]
  },
  {
   "cell_type": "code",
   "execution_count": 67,
   "metadata": {},
   "outputs": [
    {
     "data": {
      "text/plain": [
       "[99,\n",
       " 100,\n",
       " 2,\n",
       " 3,\n",
       " 4,\n",
       " 6,\n",
       " 7,\n",
       " 12,\n",
       " 35,\n",
       " 65,\n",
       " 76,\n",
       " 8,\n",
       " 989,\n",
       " 0,\n",
       " 9,\n",
       " 2,\n",
       " 12,\n",
       " 1,\n",
       " 67,\n",
       " 55,\n",
       " 33,\n",
       " 12,\n",
       " 98]"
      ]
     },
     "execution_count": 67,
     "metadata": {},
     "output_type": "execute_result"
    }
   ],
   "source": [
    "generate_num_list(sequence)"
   ]
  },
  {
   "cell_type": "markdown",
   "metadata": {},
   "source": [
    "## Question 10"
   ]
  },
  {
   "cell_type": "markdown",
   "metadata": {},
   "source": [
    "Write a program that translates the following words into any words of a language of your choosing and prints out a message notifying the end user of the language the words have been translated to"
   ]
  },
  {
   "cell_type": "code",
   "execution_count": 10,
   "metadata": {},
   "outputs": [],
   "source": [
    "#Enter your answer here:\n",
    "words = ['hello','this','that','there','where','who','how','start','stop','line','think','dream']"
   ]
  },
  {
   "cell_type": "code",
   "execution_count": 38,
   "metadata": {},
   "outputs": [],
   "source": [
    "def translate(word, language):\n",
    "#     Defines the languages and translations\n",
    "    fr = ['father', 'Frank', 'Francis', 'fried', 'five', 'fresh', 'fish', 'for', 'five', 'friends', 'from', 'france']\n",
    "    en = ['once', 'upon', 'a time','the', 'quick', 'brown', 'fox', 'jumps', 'over', 'the', 'lazy', 'dog']\n",
    "    \n",
    "    corpus = {\n",
    "        'french': dict(zip(word, fr)),\n",
    "        'english': dict(zip(word, en))\n",
    "    }\n",
    "    \n",
    "    translated = [corpus[language][i] for i in word]\n",
    "    \n",
    "    return translated"
   ]
  },
  {
   "cell_type": "code",
   "execution_count": 43,
   "metadata": {},
   "outputs": [
    {
     "name": "stdout",
     "output_type": "stream",
     "text": [
      "['father', 'Frank', 'Francis', 'fried', 'five', 'fresh', 'fish', 'for', 'five', 'friends', 'from', 'france']\n"
     ]
    }
   ],
   "source": [
    "\n",
    "translated = translate(words, 'french')\n",
    "print(translated)\n"
   ]
  },
  {
   "cell_type": "code",
   "execution_count": null,
   "metadata": {},
   "outputs": [],
   "source": []
  }
 ],
 "metadata": {
  "kernelspec": {
   "display_name": "Python 3",
   "language": "python",
   "name": "python3"
  },
  "language_info": {
   "codemirror_mode": {
    "name": "ipython",
    "version": 3
   },
   "file_extension": ".py",
   "mimetype": "text/x-python",
   "name": "python",
   "nbconvert_exporter": "python",
   "pygments_lexer": "ipython3",
   "version": "3.7.3"
  }
 },
 "nbformat": 4,
 "nbformat_minor": 2
}
