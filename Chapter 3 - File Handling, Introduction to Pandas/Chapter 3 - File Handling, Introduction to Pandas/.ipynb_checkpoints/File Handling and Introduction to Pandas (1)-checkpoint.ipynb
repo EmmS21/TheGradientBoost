{
 "cells": [
  {
   "cell_type": "markdown",
   "metadata": {},
   "source": [
    "# Exercise\n",
    "\n",
    "Ok, its time to practice what we just covered in the Opening and reading files chapter. We are going to use pandas to open a csv and then proceed to carry out a bit.\n",
    "\n",
    "Let's start off by downloading the csv combined_indicators_for_nigeria_2. This is a csv file, read the file using pandas.\n",
    "\n",
    "- Print the first 5 columns in the dataframe and the name of all the columns\n",
    "- in addition to this change the column <strong><i>country_iso3</i></strong> to <strong><i>country iso code</i></strong>"
   ]
  },
  {
   "cell_type": "code",
   "execution_count": 34,
   "metadata": {},
   "outputs": [
    {
     "data": {
      "text/html": [
       "<div>\n",
       "<style scoped>\n",
       "    .dataframe tbody tr th:only-of-type {\n",
       "        vertical-align: middle;\n",
       "    }\n",
       "\n",
       "    .dataframe tbody tr th {\n",
       "        vertical-align: top;\n",
       "    }\n",
       "\n",
       "    .dataframe thead th {\n",
       "        text-align: right;\n",
       "    }\n",
       "</style>\n",
       "<table border=\"1\" class=\"dataframe\">\n",
       "  <thead>\n",
       "    <tr style=\"text-align: right;\">\n",
       "      <th></th>\n",
       "      <th>country_name</th>\n",
       "      <th>country iso code</th>\n",
       "      <th>year</th>\n",
       "      <th>indicator_name</th>\n",
       "      <th>indicator_code</th>\n",
       "      <th>value</th>\n",
       "    </tr>\n",
       "  </thead>\n",
       "  <tbody>\n",
       "    <tr>\n",
       "      <th>0</th>\n",
       "      <td>Nigeria</td>\n",
       "      <td>NGA</td>\n",
       "      <td>2007</td>\n",
       "      <td>Agricultural machinery, tractors</td>\n",
       "      <td>AG.AGR.TRAC.NO</td>\n",
       "      <td>24800.0</td>\n",
       "    </tr>\n",
       "    <tr>\n",
       "      <th>1</th>\n",
       "      <td>Nigeria</td>\n",
       "      <td>NGA</td>\n",
       "      <td>2006</td>\n",
       "      <td>Agricultural machinery, tractors</td>\n",
       "      <td>AG.AGR.TRAC.NO</td>\n",
       "      <td>23999.0</td>\n",
       "    </tr>\n",
       "    <tr>\n",
       "      <th>2</th>\n",
       "      <td>Nigeria</td>\n",
       "      <td>NGA</td>\n",
       "      <td>2005</td>\n",
       "      <td>Agricultural machinery, tractors</td>\n",
       "      <td>AG.AGR.TRAC.NO</td>\n",
       "      <td>23000.0</td>\n",
       "    </tr>\n",
       "    <tr>\n",
       "      <th>3</th>\n",
       "      <td>Nigeria</td>\n",
       "      <td>NGA</td>\n",
       "      <td>2004</td>\n",
       "      <td>Agricultural machinery, tractors</td>\n",
       "      <td>AG.AGR.TRAC.NO</td>\n",
       "      <td>23000.0</td>\n",
       "    </tr>\n",
       "    <tr>\n",
       "      <th>4</th>\n",
       "      <td>Nigeria</td>\n",
       "      <td>NGA</td>\n",
       "      <td>2003</td>\n",
       "      <td>Agricultural machinery, tractors</td>\n",
       "      <td>AG.AGR.TRAC.NO</td>\n",
       "      <td>22000.0</td>\n",
       "    </tr>\n",
       "  </tbody>\n",
       "</table>\n",
       "</div>"
      ],
      "text/plain": [
       "  country_name country iso code  year                    indicator_name  \\\n",
       "0      Nigeria              NGA  2007  Agricultural machinery, tractors   \n",
       "1      Nigeria              NGA  2006  Agricultural machinery, tractors   \n",
       "2      Nigeria              NGA  2005  Agricultural machinery, tractors   \n",
       "3      Nigeria              NGA  2004  Agricultural machinery, tractors   \n",
       "4      Nigeria              NGA  2003  Agricultural machinery, tractors   \n",
       "\n",
       "   indicator_code    value  \n",
       "0  AG.AGR.TRAC.NO  24800.0  \n",
       "1  AG.AGR.TRAC.NO  23999.0  \n",
       "2  AG.AGR.TRAC.NO  23000.0  \n",
       "3  AG.AGR.TRAC.NO  23000.0  \n",
       "4  AG.AGR.TRAC.NO  22000.0  "
      ]
     },
     "execution_count": 34,
     "metadata": {},
     "output_type": "execute_result"
    }
   ],
   "source": [
    "# path = 'C://Users//User//Documents//GradientBoostCurriculum//GradientBoostIntrotoDS//Introduction to Python//Chapter 3 - File Handling, Introduction to Pandas//combined_indicators_for_nigeria_2.csv'\n",
    "# import pandas as pd\n",
    "# df = pd.read_csv(path)\n",
    "\n",
    "#answer here\n",
    "import pandas as pd\n",
    "file = \"combined_indicators_for_nigeria_2.csv\"\n",
    "\n",
    "df = pd.read_csv(file)\n",
    "df.rename(columns={'country_iso3':'country iso code'}, inplace=True)\n",
    "df.head()"
   ]
  },
  {
   "cell_type": "markdown",
   "metadata": {},
   "source": [
    "# Question 1\n",
    "\n",
    "Select data in your dataframe where the indicator name is;\n",
    "- \"Net bilateral aid flows from DAC donors, Australia (current US$) or\n",
    "- Net bilateral aid flows from DAC donors, United Kingdomor\n",
    "- Net bilateral aid flows from DAC donors, United States or \n",
    "- Net bilateral aid flows from DAC donors, European Union institutions\n",
    "\n",
    "Save this as western_dac_donors"
   ]
  },
  {
   "cell_type": "code",
   "execution_count": 42,
   "metadata": {},
   "outputs": [
    {
     "data": {
      "text/plain": [
       "0    Agricultural machinery, tractors\n",
       "1    Agricultural machinery, tractors\n",
       "2    Agricultural machinery, tractors\n",
       "3    Agricultural machinery, tractors\n",
       "4    Agricultural machinery, tractors\n",
       "Name: indicator_name, dtype: object"
      ]
     },
     "execution_count": 42,
     "metadata": {},
     "output_type": "execute_result"
    }
   ],
   "source": [
    "#answer here\n",
    "donors = [\"Net bilateral aid flows from DAC donors, Australia (current US$)\", \"Net bilateral aid flows from DAC donors, United Kingdom\", \"Net bilateral aid flows from DAC donors, United States\", \"Net bilateral aid flows from DAC donors, European Union institutions\"]\n",
    "\n",
    "western_dac_donors = df.loc[:, 'indicator_name']\n",
    "western_dac_donors.head()"
   ]
  },
  {
   "cell_type": "code",
   "execution_count": 37,
   "metadata": {},
   "outputs": [
    {
     "ename": "AttributeError",
     "evalue": "'DataFrame' object has no attribute 'donors'",
     "output_type": "error",
     "traceback": [
      "\u001b[1;31m---------------------------------------------------------------------------\u001b[0m",
      "\u001b[1;31mAttributeError\u001b[0m                            Traceback (most recent call last)",
      "\u001b[1;32m<ipython-input-37-517c36e96328>\u001b[0m in \u001b[0;36m<module>\u001b[1;34m\u001b[0m\n\u001b[1;32m----> 1\u001b[1;33m \u001b[0mdf\u001b[0m\u001b[1;33m.\u001b[0m\u001b[0mdonors\u001b[0m\u001b[1;33m\u001b[0m\u001b[1;33m\u001b[0m\u001b[0m\n\u001b[0m",
      "\u001b[1;32mC:\\Anaconda\\lib\\site-packages\\pandas\\core\\generic.py\u001b[0m in \u001b[0;36m__getattr__\u001b[1;34m(self, name)\u001b[0m\n\u001b[0;32m   5065\u001b[0m             \u001b[1;32mif\u001b[0m \u001b[0mself\u001b[0m\u001b[1;33m.\u001b[0m\u001b[0m_info_axis\u001b[0m\u001b[1;33m.\u001b[0m\u001b[0m_can_hold_identifiers_and_holds_name\u001b[0m\u001b[1;33m(\u001b[0m\u001b[0mname\u001b[0m\u001b[1;33m)\u001b[0m\u001b[1;33m:\u001b[0m\u001b[1;33m\u001b[0m\u001b[1;33m\u001b[0m\u001b[0m\n\u001b[0;32m   5066\u001b[0m                 \u001b[1;32mreturn\u001b[0m \u001b[0mself\u001b[0m\u001b[1;33m[\u001b[0m\u001b[0mname\u001b[0m\u001b[1;33m]\u001b[0m\u001b[1;33m\u001b[0m\u001b[1;33m\u001b[0m\u001b[0m\n\u001b[1;32m-> 5067\u001b[1;33m             \u001b[1;32mreturn\u001b[0m \u001b[0mobject\u001b[0m\u001b[1;33m.\u001b[0m\u001b[0m__getattribute__\u001b[0m\u001b[1;33m(\u001b[0m\u001b[0mself\u001b[0m\u001b[1;33m,\u001b[0m \u001b[0mname\u001b[0m\u001b[1;33m)\u001b[0m\u001b[1;33m\u001b[0m\u001b[1;33m\u001b[0m\u001b[0m\n\u001b[0m\u001b[0;32m   5068\u001b[0m \u001b[1;33m\u001b[0m\u001b[0m\n\u001b[0;32m   5069\u001b[0m     \u001b[1;32mdef\u001b[0m \u001b[0m__setattr__\u001b[0m\u001b[1;33m(\u001b[0m\u001b[0mself\u001b[0m\u001b[1;33m,\u001b[0m \u001b[0mname\u001b[0m\u001b[1;33m,\u001b[0m \u001b[0mvalue\u001b[0m\u001b[1;33m)\u001b[0m\u001b[1;33m:\u001b[0m\u001b[1;33m\u001b[0m\u001b[1;33m\u001b[0m\u001b[0m\n",
      "\u001b[1;31mAttributeError\u001b[0m: 'DataFrame' object has no attribute 'donors'"
     ]
    }
   ],
   "source": [
    "df.donors"
   ]
  },
  {
   "cell_type": "markdown",
   "metadata": {},
   "source": [
    "# Question 2\n",
    "\n",
    "Great, now select the rows where the indicator_name relates to Net officual flows from UN agencies, save this subset as un_agencies_donor"
   ]
  },
  {
   "cell_type": "code",
   "execution_count": 49,
   "metadata": {},
   "outputs": [
    {
     "ename": "ValueError",
     "evalue": "Array conditional must be same shape as self",
     "output_type": "error",
     "traceback": [
      "\u001b[1;31m---------------------------------------------------------------------------\u001b[0m",
      "\u001b[1;31mValueError\u001b[0m                                Traceback (most recent call last)",
      "\u001b[1;32m<ipython-input-49-7fbad79dc917>\u001b[0m in \u001b[0;36m<module>\u001b[1;34m\u001b[0m\n\u001b[0;32m      1\u001b[0m \u001b[1;31m#answer here\u001b[0m\u001b[1;33m\u001b[0m\u001b[1;33m\u001b[0m\u001b[1;33m\u001b[0m\u001b[0m\n\u001b[0;32m      2\u001b[0m \u001b[1;33m\u001b[0m\u001b[0m\n\u001b[1;32m----> 3\u001b[1;33m \u001b[0mun_agencies_donor\u001b[0m \u001b[1;33m=\u001b[0m \u001b[0mdf\u001b[0m\u001b[1;33m.\u001b[0m\u001b[0mwhere\u001b[0m\u001b[1;33m(\u001b[0m\u001b[1;33m[\u001b[0m\u001b[0mdf\u001b[0m\u001b[1;33m.\u001b[0m\u001b[0mindicator_name\u001b[0m\u001b[1;33m]\u001b[0m\u001b[1;33m==\u001b[0m\u001b[1;34m'Net official flows from UN agencies,'\u001b[0m\u001b[1;33m)\u001b[0m\u001b[1;33m\u001b[0m\u001b[1;33m\u001b[0m\u001b[0m\n\u001b[0m\u001b[0;32m      4\u001b[0m \u001b[0mun_agencies_donor\u001b[0m\u001b[1;33m.\u001b[0m\u001b[0mhead\u001b[0m\u001b[1;33m(\u001b[0m\u001b[1;33m)\u001b[0m\u001b[1;33m\u001b[0m\u001b[1;33m\u001b[0m\u001b[0m\n",
      "\u001b[1;32mC:\\Anaconda\\lib\\site-packages\\pandas\\core\\generic.py\u001b[0m in \u001b[0;36mwhere\u001b[1;34m(self, cond, other, inplace, axis, level, errors, try_cast, raise_on_error)\u001b[0m\n\u001b[0;32m   8832\u001b[0m         \u001b[0mother\u001b[0m \u001b[1;33m=\u001b[0m \u001b[0mcom\u001b[0m\u001b[1;33m.\u001b[0m\u001b[0mapply_if_callable\u001b[0m\u001b[1;33m(\u001b[0m\u001b[0mother\u001b[0m\u001b[1;33m,\u001b[0m \u001b[0mself\u001b[0m\u001b[1;33m)\u001b[0m\u001b[1;33m\u001b[0m\u001b[1;33m\u001b[0m\u001b[0m\n\u001b[0;32m   8833\u001b[0m         return self._where(cond, other, inplace, axis, level,\n\u001b[1;32m-> 8834\u001b[1;33m                            errors=errors, try_cast=try_cast)\n\u001b[0m\u001b[0;32m   8835\u001b[0m \u001b[1;33m\u001b[0m\u001b[0m\n\u001b[0;32m   8836\u001b[0m     @Appender(_shared_docs['where'] % dict(_shared_doc_kwargs, cond=\"False\",\n",
      "\u001b[1;32mC:\\Anaconda\\lib\\site-packages\\pandas\\core\\generic.py\u001b[0m in \u001b[0;36m_where\u001b[1;34m(self, cond, other, inplace, axis, level, errors, try_cast)\u001b[0m\n\u001b[0;32m   8570\u001b[0m                 \u001b[0mcond\u001b[0m \u001b[1;33m=\u001b[0m \u001b[0mnp\u001b[0m\u001b[1;33m.\u001b[0m\u001b[0masanyarray\u001b[0m\u001b[1;33m(\u001b[0m\u001b[0mcond\u001b[0m\u001b[1;33m)\u001b[0m\u001b[1;33m\u001b[0m\u001b[1;33m\u001b[0m\u001b[0m\n\u001b[0;32m   8571\u001b[0m             \u001b[1;32mif\u001b[0m \u001b[0mcond\u001b[0m\u001b[1;33m.\u001b[0m\u001b[0mshape\u001b[0m \u001b[1;33m!=\u001b[0m \u001b[0mself\u001b[0m\u001b[1;33m.\u001b[0m\u001b[0mshape\u001b[0m\u001b[1;33m:\u001b[0m\u001b[1;33m\u001b[0m\u001b[1;33m\u001b[0m\u001b[0m\n\u001b[1;32m-> 8572\u001b[1;33m                 raise ValueError('Array conditional must be same shape as '\n\u001b[0m\u001b[0;32m   8573\u001b[0m                                  'self')\n\u001b[0;32m   8574\u001b[0m             \u001b[0mcond\u001b[0m \u001b[1;33m=\u001b[0m \u001b[0mself\u001b[0m\u001b[1;33m.\u001b[0m\u001b[0m_constructor\u001b[0m\u001b[1;33m(\u001b[0m\u001b[0mcond\u001b[0m\u001b[1;33m,\u001b[0m \u001b[1;33m**\u001b[0m\u001b[0mself\u001b[0m\u001b[1;33m.\u001b[0m\u001b[0m_construct_axes_dict\u001b[0m\u001b[1;33m(\u001b[0m\u001b[1;33m)\u001b[0m\u001b[1;33m)\u001b[0m\u001b[1;33m\u001b[0m\u001b[1;33m\u001b[0m\u001b[0m\n",
      "\u001b[1;31mValueError\u001b[0m: Array conditional must be same shape as self"
     ]
    }
   ],
   "source": [
    "#answer here\n",
    "\n",
    "un_agencies_donor = df.where([df.indicator_name] in 'Net official flows from UN agencies,')\n",
    "un_agencies_donor.head()"
   ]
  },
  {
   "cell_type": "markdown",
   "metadata": {},
   "source": [
    "# Question 3\n",
    "\n",
    "Select all the rows in un_agencies_donor where the year is greater than or equal to 2015, sort these rows by <strong>value</strong> in descending order ie. starting with the largest value"
   ]
  },
  {
   "cell_type": "code",
   "execution_count": 25,
   "metadata": {},
   "outputs": [
    {
     "data": {
      "text/html": [
       "<div>\n",
       "<style scoped>\n",
       "    .dataframe tbody tr th:only-of-type {\n",
       "        vertical-align: middle;\n",
       "    }\n",
       "\n",
       "    .dataframe tbody tr th {\n",
       "        vertical-align: top;\n",
       "    }\n",
       "\n",
       "    .dataframe thead th {\n",
       "        text-align: right;\n",
       "    }\n",
       "</style>\n",
       "<table border=\"1\" class=\"dataframe\">\n",
       "  <thead>\n",
       "    <tr style=\"text-align: right;\">\n",
       "      <th></th>\n",
       "      <th>country_name</th>\n",
       "      <th>country_iso3</th>\n",
       "      <th>year</th>\n",
       "      <th>indicator_name</th>\n",
       "      <th>indicator_code</th>\n",
       "      <th>value</th>\n",
       "    </tr>\n",
       "  </thead>\n",
       "  <tbody>\n",
       "    <tr>\n",
       "      <th>2894</th>\n",
       "      <td>Nigeria</td>\n",
       "      <td>NGA</td>\n",
       "      <td>2013</td>\n",
       "      <td>Net official flows from UN agencies, FAO (curr...</td>\n",
       "      <td>DT.NFL.FAOG.CD</td>\n",
       "      <td>440000.0</td>\n",
       "    </tr>\n",
       "    <tr>\n",
       "      <th>2895</th>\n",
       "      <td>Nigeria</td>\n",
       "      <td>NGA</td>\n",
       "      <td>2017</td>\n",
       "      <td>Net official flows from UN agencies, IAEA (cur...</td>\n",
       "      <td>DT.NFL.IAEA.CD</td>\n",
       "      <td>470000.0</td>\n",
       "    </tr>\n",
       "    <tr>\n",
       "      <th>2896</th>\n",
       "      <td>Nigeria</td>\n",
       "      <td>NGA</td>\n",
       "      <td>2016</td>\n",
       "      <td>Net official flows from UN agencies, IAEA (cur...</td>\n",
       "      <td>DT.NFL.IAEA.CD</td>\n",
       "      <td>510000.0</td>\n",
       "    </tr>\n",
       "    <tr>\n",
       "      <th>2897</th>\n",
       "      <td>Nigeria</td>\n",
       "      <td>NGA</td>\n",
       "      <td>2015</td>\n",
       "      <td>Net official flows from UN agencies, IAEA (cur...</td>\n",
       "      <td>DT.NFL.IAEA.CD</td>\n",
       "      <td>400000.0</td>\n",
       "    </tr>\n",
       "    <tr>\n",
       "      <th>2898</th>\n",
       "      <td>Nigeria</td>\n",
       "      <td>NGA</td>\n",
       "      <td>2014</td>\n",
       "      <td>Net official flows from UN agencies, IAEA (cur...</td>\n",
       "      <td>DT.NFL.IAEA.CD</td>\n",
       "      <td>640000.0</td>\n",
       "    </tr>\n",
       "  </tbody>\n",
       "</table>\n",
       "</div>"
      ],
      "text/plain": [
       "     country_name country_iso3  year  \\\n",
       "2894      Nigeria          NGA  2013   \n",
       "2895      Nigeria          NGA  2017   \n",
       "2896      Nigeria          NGA  2016   \n",
       "2897      Nigeria          NGA  2015   \n",
       "2898      Nigeria          NGA  2014   \n",
       "\n",
       "                                         indicator_name  indicator_code  \\\n",
       "2894  Net official flows from UN agencies, FAO (curr...  DT.NFL.FAOG.CD   \n",
       "2895  Net official flows from UN agencies, IAEA (cur...  DT.NFL.IAEA.CD   \n",
       "2896  Net official flows from UN agencies, IAEA (cur...  DT.NFL.IAEA.CD   \n",
       "2897  Net official flows from UN agencies, IAEA (cur...  DT.NFL.IAEA.CD   \n",
       "2898  Net official flows from UN agencies, IAEA (cur...  DT.NFL.IAEA.CD   \n",
       "\n",
       "         value  \n",
       "2894  440000.0  \n",
       "2895  470000.0  \n",
       "2896  510000.0  \n",
       "2897  400000.0  \n",
       "2898  640000.0  "
      ]
     },
     "execution_count": 25,
     "metadata": {},
     "output_type": "execute_result"
    }
   ],
   "source": [
    "#answer here"
   ]
  },
  {
   "cell_type": "markdown",
   "metadata": {},
   "source": [
    "# Question 4\n",
    "How much money did Nigeria receive from \n",
    "- i.) WHO in 2016 and 2017\n",
    "- ii.) bilateral aid flows from DAC donor, United Kingdom in 2016 and 2017"
   ]
  },
  {
   "cell_type": "code",
   "execution_count": null,
   "metadata": {},
   "outputs": [],
   "source": [
    "# answer here"
   ]
  },
  {
   "cell_type": "markdown",
   "metadata": {},
   "source": [
    "# Question 5\n",
    "\n",
    "- i.) Calculate the mean value of all net official flows from UN agencies in 2016\n",
    "- ii.) Calculate the median value of all net official flows from UN agencies in 2016"
   ]
  },
  {
   "cell_type": "code",
   "execution_count": null,
   "metadata": {},
   "outputs": [],
   "source": [
    "#answer here"
   ]
  }
 ],
 "metadata": {
  "kernelspec": {
   "display_name": "Python 3",
   "language": "python",
   "name": "python3"
  },
  "language_info": {
   "codemirror_mode": {
    "name": "ipython",
    "version": 3
   },
   "file_extension": ".py",
   "mimetype": "text/x-python",
   "name": "python",
   "nbconvert_exporter": "python",
   "pygments_lexer": "ipython3",
   "version": "3.7.3"
  }
 },
 "nbformat": 4,
 "nbformat_minor": 2
}
